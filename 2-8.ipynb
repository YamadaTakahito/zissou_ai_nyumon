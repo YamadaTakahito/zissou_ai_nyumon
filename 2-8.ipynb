{
 "cells": [
  {
   "cell_type": "code",
   "execution_count": 1,
   "id": "initial_id",
   "metadata": {
    "collapsed": true,
    "ExecuteTime": {
     "end_time": "2023-08-26T02:14:22.625197Z",
     "start_time": "2023-08-26T02:14:22.535909Z"
    }
   },
   "outputs": [],
   "source": [
    "from sklearn.datasets import fetch_20newsgroups\n",
    "from pprint import pprint"
   ]
  },
  {
   "cell_type": "code",
   "execution_count": 4,
   "outputs": [
    {
     "name": "stdout",
     "output_type": "stream",
     "text": [
      "categories\n",
      "['alt.atheism',\n",
      " 'comp.graphics',\n",
      " 'comp.os.ms-windows.misc',\n",
      " 'comp.sys.ibm.pc.hardware',\n",
      " 'comp.sys.mac.hardware',\n",
      " 'comp.windows.x',\n",
      " 'misc.forsale',\n",
      " 'rec.autos',\n",
      " 'rec.motorcycles',\n",
      " 'rec.sport.baseball',\n",
      " 'rec.sport.hockey',\n",
      " 'sci.crypt',\n",
      " 'sci.electronics',\n",
      " 'sci.med',\n",
      " 'sci.space',\n",
      " 'soc.religion.christian',\n",
      " 'talk.politics.guns',\n",
      " 'talk.politics.mideast',\n",
      " 'talk.politics.misc',\n",
      " 'talk.religion.misc']\n",
      "article 1\n",
      "news scripts:\n",
      "From: lerxst@wam.umd.edu (where's my thing)\n",
      "Subject: WHAT car is this!?\n",
      "Nntp-Posting-Host: rac3.wam.umd.edu\n",
      "Organization: University of Maryland, College Park\n",
      "Lines: 15\n",
      "\n",
      " I was wondering if anyone out there could enlighten me on this car I saw\n",
      "the other day. It was a 2-door sports car, looked to be from the late 60s/\n",
      "early 70s. It was called a Bricklin. The doors were really small. In addition,\n",
      "the front bumper was separate from the rest of the body. This is \n",
      "all I know. If anyone can tellme a model name, engine specs, years\n",
      "of production, where this car is made, history, or whatever info you\n",
      "have on this funky looking car, please e-mail.\n",
      "\n",
      "Thanks,\n",
      "- IL\n",
      "   ---- brought to you by your neighborhood Lerxst ----\n",
      "\n",
      "\n",
      "\n",
      "\n",
      "\n",
      "article 1 category\n",
      "text category label 7\n"
     ]
    }
   ],
   "source": [
    "train_set = fetch_20newsgroups(subset='train', random_state=42)\n",
    "test_set = fetch_20newsgroups(subset='test', random_state=42)\n",
    "\n",
    "X_train = train_set.data\n",
    "y_train = train_set.target\n",
    "X_test = test_set.data\n",
    "y_test = test_set.target\n",
    "\n",
    "print('categories')\n",
    "pprint(train_set.target_names)\n",
    "print('article 1')\n",
    "print(f\"news scripts:\\n{X_train[0]}\")\n",
    "print('article 1 category')\n",
    "print(f\"text category label {y_train[0]}\")"
   ],
   "metadata": {
    "collapsed": false,
    "ExecuteTime": {
     "end_time": "2023-08-26T02:16:21.807181Z",
     "start_time": "2023-08-26T02:16:21.515167Z"
    }
   },
   "id": "4e91f20cb8e2a324"
  },
  {
   "cell_type": "code",
   "execution_count": 5,
   "outputs": [
    {
     "name": "stdout",
     "output_type": "stream",
     "text": [
      "(text_num,work_num) count\n",
      "  (0, 4605)\t1\n",
      "  (0, 16574)\t1\n",
      "  (0, 18299)\t1\n",
      "  (0, 26070)\t1\n",
      "  (0, 34131)\t1\n",
      "  (0, 34943)\t1\n",
      "  (0, 35135)\t1\n",
      "  (0, 35560)\t1\n",
      "  (0, 37378)\t1\n",
      "  (0, 37722)\t5\n",
      "  (0, 40939)\t1\n",
      "  (0, 45232)\t1\n",
      "  (0, 48550)\t1\n",
      "  (0, 48552)\t1\n",
      "  (0, 50039)\t1\n",
      "  (0, 50455)\t2\n",
      "  (0, 51651)\t1\n",
      "  (0, 51714)\t1\n",
      "  (0, 57203)\t1\n",
      "  (0, 63238)\t1\n",
      "  (0, 63970)\t1\n",
      "  (0, 65968)\t1\n",
      "  (0, 67023)\t1\n",
      "  (0, 73061)\t1\n",
      "  (0, 74552)\t1\n",
      "  :\t:\n",
      "  (0, 79519)\t1\n",
      "  (0, 83103)\t1\n",
      "  (0, 86416)\t1\n",
      "  (0, 87451)\t1\n",
      "  (0, 90192)\t1\n",
      "  (0, 91885)\t1\n",
      "  (0, 94962)\t1\n",
      "  (0, 95944)\t1\n",
      "  (0, 98748)\t1\n",
      "  (0, 99619)\t1\n",
      "  (0, 101175)\t1\n",
      "  (0, 104609)\t1\n",
      "  (0, 105907)\t1\n",
      "  (0, 108033)\t1\n",
      "  (0, 109044)\t1\n",
      "  (0, 109354)\t1\n",
      "  (0, 111094)\t1\n",
      "  (0, 113755)\t1\n",
      "  (0, 114195)\t1\n",
      "  (0, 114439)\t1\n",
      "  (0, 118013)\t2\n",
      "  (0, 118714)\t1\n",
      "  (0, 122887)\t2\n",
      "  (0, 124627)\t1\n",
      "  (0, 127721)\t1\n",
      "word vector\n",
      "[[0 0 0 ... 0 0 0]]\n"
     ]
    }
   ],
   "source": [
    "from sklearn.feature_extraction.text import CountVectorizer\n",
    "\n",
    "vectorizer = CountVectorizer(stop_words='english')\n",
    "vectorizer.fit(X_train)\n",
    "X_train_bow = vectorizer.transform(X_train)\n",
    "X_test_bow = vectorizer.transform(X_test)\n",
    "\n",
    "print(f'(text_num,work_num) count')\n",
    "print(X_train_bow[0])\n",
    "print('word vector')\n",
    "print(X_train_bow[0].toarray())"
   ],
   "metadata": {
    "collapsed": false,
    "ExecuteTime": {
     "end_time": "2023-08-26T02:19:15.788470Z",
     "start_time": "2023-08-26T02:19:12.432924Z"
    }
   },
   "id": "b61e2f9e477092f0"
  },
  {
   "cell_type": "code",
   "execution_count": 6,
   "outputs": [
    {
     "name": "stdout",
     "output_type": "stream",
     "text": [
      "train score: 0.9512992752342231\n",
      "test score: 0.8110727562400425\n"
     ]
    }
   ],
   "source": [
    "from sklearn.naive_bayes import MultinomialNB\n",
    "\n",
    "mnb = MultinomialNB(alpha=0.4)\n",
    "mnb.fit(X_train_bow, y_train)\n",
    "\n",
    "print(f\"train score: {mnb.score(X_train_bow, y_train)}\")\n",
    "print(f\"test score: {mnb.score(X_test_bow, y_test)}\")"
   ],
   "metadata": {
    "collapsed": false,
    "ExecuteTime": {
     "end_time": "2023-08-26T02:20:57.219584Z",
     "start_time": "2023-08-26T02:20:57.075623Z"
    }
   },
   "id": "254f40559bae6792"
  },
  {
   "cell_type": "code",
   "execution_count": 9,
   "outputs": [
    {
     "name": "stdout",
     "output_type": "stream",
     "text": [
      "small train score: 0.987802722290967\n",
      "small test score: 0.798858204992034\n",
      "large train score: 0.7473926109245183\n",
      "large test score: 0.6323685608072225\n"
     ]
    }
   ],
   "source": [
    "mbn_small = MultinomialNB(alpha=0.001)\n",
    "mbn_small.fit(X_train_bow, y_train)\n",
    "\n",
    "mbn_large = MultinomialNB(alpha=100)\n",
    "mbn_large.fit(X_train_bow, y_train)\n",
    "\n",
    "print(f\"small train score: {mbn_small.score(X_train_bow, y_train)}\")\n",
    "print(f\"small test score: {mbn_small.score(X_test_bow, y_test)}\")\n",
    "print(f\"large train score: {mbn_large.score(X_train_bow, y_train)}\")\n",
    "print(f\"large test score: {mbn_large.score(X_test_bow, y_test)}\")"
   ],
   "metadata": {
    "collapsed": false,
    "ExecuteTime": {
     "end_time": "2023-08-26T02:26:16.400378Z",
     "start_time": "2023-08-26T02:26:16.222281Z"
    }
   },
   "id": "82c50c1989e2c924"
  },
  {
   "cell_type": "code",
   "execution_count": null,
   "outputs": [],
   "source": [],
   "metadata": {
    "collapsed": false
   },
   "id": "d0903c8c47b2bf09"
  }
 ],
 "metadata": {
  "kernelspec": {
   "display_name": "Python 3",
   "language": "python",
   "name": "python3"
  },
  "language_info": {
   "codemirror_mode": {
    "name": "ipython",
    "version": 2
   },
   "file_extension": ".py",
   "mimetype": "text/x-python",
   "name": "python",
   "nbconvert_exporter": "python",
   "pygments_lexer": "ipython2",
   "version": "2.7.6"
  }
 },
 "nbformat": 4,
 "nbformat_minor": 5
}
